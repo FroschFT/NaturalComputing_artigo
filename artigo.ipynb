{
 "cells": [
  {
   "cell_type": "code",
   "execution_count": 13,
   "metadata": {},
   "outputs": [],
   "source": [
    "import random\n",
    "\n",
    "import numpy as np\n",
    "import pandas as pd\n",
    "import matplotlib.pyplot as plt\n",
    "\n",
    "from ga import GeneticAlgorithm"
   ]
  },
  {
   "cell_type": "markdown",
   "metadata": {},
   "source": [
    "Ideia\n",
    "\n",
    "Gerar um algoritmo genético para dado um time adversário fixo gerar um time melhor adequado capaz de vence-lo."
   ]
  },
  {
   "cell_type": "markdown",
   "metadata": {},
   "source": [
    "# Dados"
   ]
  },
  {
   "cell_type": "markdown",
   "metadata": {},
   "source": [
    "pokedex\n",
    " - https://gist.github.com/armgilles/194bcff35001e7eb53a2a8b441e8b2c6\n",
    " - https://pokemondb.net/pokedex/all\n",
    " - https://bulbapedia.bulbagarden.net/wiki/Index_number\n",
    " - https://www.kaggle.com/datasets/rounakbanik/pokemon\n",
    "\n",
    "matriz tipos\n",
    " - https://bulbapedia.bulbagarden.net/wiki/Type#Type-affected_game_mechanics\n",
    " - https://pokemondb.net/type"
   ]
  },
  {
   "cell_type": "code",
   "execution_count": 14,
   "metadata": {},
   "outputs": [
    {
     "data": {
      "text/html": [
       "<div>\n",
       "<style scoped>\n",
       "    .dataframe tbody tr th:only-of-type {\n",
       "        vertical-align: middle;\n",
       "    }\n",
       "\n",
       "    .dataframe tbody tr th {\n",
       "        vertical-align: top;\n",
       "    }\n",
       "\n",
       "    .dataframe thead th {\n",
       "        text-align: right;\n",
       "    }\n",
       "</style>\n",
       "<table border=\"1\" class=\"dataframe\">\n",
       "  <thead>\n",
       "    <tr style=\"text-align: right;\">\n",
       "      <th></th>\n",
       "      <th>pokedex_number</th>\n",
       "      <th>name</th>\n",
       "      <th>type1</th>\n",
       "      <th>type2</th>\n",
       "      <th>hp</th>\n",
       "      <th>attack_total</th>\n",
       "      <th>defense_total</th>\n",
       "      <th>speed</th>\n",
       "      <th>capture_rate</th>\n",
       "      <th>legendary</th>\n",
       "      <th>generation</th>\n",
       "    </tr>\n",
       "  </thead>\n",
       "  <tbody>\n",
       "    <tr>\n",
       "      <th>0</th>\n",
       "      <td>1</td>\n",
       "      <td>Bulbasaur</td>\n",
       "      <td>Grass</td>\n",
       "      <td>Poison</td>\n",
       "      <td>45</td>\n",
       "      <td>114</td>\n",
       "      <td>114</td>\n",
       "      <td>45</td>\n",
       "      <td>45</td>\n",
       "      <td>False</td>\n",
       "      <td>1</td>\n",
       "    </tr>\n",
       "    <tr>\n",
       "      <th>1</th>\n",
       "      <td>2</td>\n",
       "      <td>Ivysaur</td>\n",
       "      <td>Grass</td>\n",
       "      <td>Poison</td>\n",
       "      <td>60</td>\n",
       "      <td>142</td>\n",
       "      <td>143</td>\n",
       "      <td>60</td>\n",
       "      <td>45</td>\n",
       "      <td>False</td>\n",
       "      <td>1</td>\n",
       "    </tr>\n",
       "    <tr>\n",
       "      <th>2</th>\n",
       "      <td>3</td>\n",
       "      <td>Venusaur</td>\n",
       "      <td>Grass</td>\n",
       "      <td>Poison</td>\n",
       "      <td>80</td>\n",
       "      <td>182</td>\n",
       "      <td>183</td>\n",
       "      <td>80</td>\n",
       "      <td>45</td>\n",
       "      <td>False</td>\n",
       "      <td>1</td>\n",
       "    </tr>\n",
       "    <tr>\n",
       "      <th>3</th>\n",
       "      <td>4</td>\n",
       "      <td>Charmander</td>\n",
       "      <td>Fire</td>\n",
       "      <td>NULL</td>\n",
       "      <td>39</td>\n",
       "      <td>112</td>\n",
       "      <td>93</td>\n",
       "      <td>65</td>\n",
       "      <td>45</td>\n",
       "      <td>False</td>\n",
       "      <td>1</td>\n",
       "    </tr>\n",
       "    <tr>\n",
       "      <th>4</th>\n",
       "      <td>5</td>\n",
       "      <td>Charmeleon</td>\n",
       "      <td>Fire</td>\n",
       "      <td>NULL</td>\n",
       "      <td>58</td>\n",
       "      <td>144</td>\n",
       "      <td>123</td>\n",
       "      <td>80</td>\n",
       "      <td>45</td>\n",
       "      <td>False</td>\n",
       "      <td>1</td>\n",
       "    </tr>\n",
       "  </tbody>\n",
       "</table>\n",
       "</div>"
      ],
      "text/plain": [
       "   pokedex_number        name  type1   type2  hp  attack_total  defense_total  \\\n",
       "0               1   Bulbasaur  Grass  Poison  45           114            114   \n",
       "1               2     Ivysaur  Grass  Poison  60           142            143   \n",
       "2               3    Venusaur  Grass  Poison  80           182            183   \n",
       "3               4  Charmander   Fire    NULL  39           112             93   \n",
       "4               5  Charmeleon   Fire    NULL  58           144            123   \n",
       "\n",
       "   speed  capture_rate  legendary  generation  \n",
       "0     45            45      False           1  \n",
       "1     60            45      False           1  \n",
       "2     80            45      False           1  \n",
       "3     65            45      False           1  \n",
       "4     80            45      False           1  "
      ]
     },
     "execution_count": 14,
     "metadata": {},
     "output_type": "execute_result"
    }
   ],
   "source": [
    "df = pd.read_csv(\"data/pokemon_dataset.csv\")\n",
    "# df.isnull().sum()\n",
    "# df.nunique()\n",
    "# df.dtypes\n",
    "# df.describe()\n",
    "df.fillna(\"NULL\", inplace=True)\n",
    "# df.sample(random_state=20)\n",
    "# df.sample(random_state=20).to_dict(orient='records')[0]\n",
    "# pokemon = df.sample(random_state=0).to_dict(orient='records')[0]\n",
    "# pokemon = df.sample(random_state=20).to_dict(orient='records')[0]\n",
    "# pokemon\n",
    "df.head()"
   ]
  },
  {
   "cell_type": "code",
   "execution_count": 15,
   "metadata": {},
   "outputs": [
    {
     "data": {
      "text/html": [
       "<div>\n",
       "<style scoped>\n",
       "    .dataframe tbody tr th:only-of-type {\n",
       "        vertical-align: middle;\n",
       "    }\n",
       "\n",
       "    .dataframe tbody tr th {\n",
       "        vertical-align: top;\n",
       "    }\n",
       "\n",
       "    .dataframe thead th {\n",
       "        text-align: right;\n",
       "    }\n",
       "</style>\n",
       "<table border=\"1\" class=\"dataframe\">\n",
       "  <thead>\n",
       "    <tr style=\"text-align: right;\">\n",
       "      <th></th>\n",
       "      <th>tipo</th>\n",
       "      <th>Normal</th>\n",
       "      <th>Fighting</th>\n",
       "      <th>Flying</th>\n",
       "      <th>Poison</th>\n",
       "      <th>Ground</th>\n",
       "      <th>Rock</th>\n",
       "      <th>Bug</th>\n",
       "      <th>Ghost</th>\n",
       "      <th>Steel</th>\n",
       "      <th>Fire</th>\n",
       "      <th>Water</th>\n",
       "      <th>Grass</th>\n",
       "      <th>Electric</th>\n",
       "      <th>Psychic</th>\n",
       "      <th>Ice</th>\n",
       "      <th>Dragon</th>\n",
       "      <th>Dark</th>\n",
       "      <th>Fairy</th>\n",
       "    </tr>\n",
       "  </thead>\n",
       "  <tbody>\n",
       "    <tr>\n",
       "      <th>0</th>\n",
       "      <td>Normal</td>\n",
       "      <td>1.0</td>\n",
       "      <td>1.0</td>\n",
       "      <td>1.0</td>\n",
       "      <td>1.0</td>\n",
       "      <td>1.0</td>\n",
       "      <td>0.5</td>\n",
       "      <td>1.0</td>\n",
       "      <td>0.0</td>\n",
       "      <td>0.5</td>\n",
       "      <td>1.0</td>\n",
       "      <td>1.0</td>\n",
       "      <td>1.0</td>\n",
       "      <td>1.0</td>\n",
       "      <td>1.0</td>\n",
       "      <td>1.0</td>\n",
       "      <td>1.0</td>\n",
       "      <td>1.0</td>\n",
       "      <td>1.0</td>\n",
       "    </tr>\n",
       "    <tr>\n",
       "      <th>1</th>\n",
       "      <td>Fighting</td>\n",
       "      <td>2.0</td>\n",
       "      <td>1.0</td>\n",
       "      <td>0.5</td>\n",
       "      <td>0.5</td>\n",
       "      <td>1.0</td>\n",
       "      <td>2.0</td>\n",
       "      <td>0.5</td>\n",
       "      <td>0.0</td>\n",
       "      <td>2.0</td>\n",
       "      <td>1.0</td>\n",
       "      <td>1.0</td>\n",
       "      <td>1.0</td>\n",
       "      <td>1.0</td>\n",
       "      <td>0.5</td>\n",
       "      <td>2.0</td>\n",
       "      <td>1.0</td>\n",
       "      <td>2.0</td>\n",
       "      <td>0.5</td>\n",
       "    </tr>\n",
       "    <tr>\n",
       "      <th>2</th>\n",
       "      <td>Flying</td>\n",
       "      <td>1.0</td>\n",
       "      <td>2.0</td>\n",
       "      <td>1.0</td>\n",
       "      <td>1.0</td>\n",
       "      <td>1.0</td>\n",
       "      <td>0.5</td>\n",
       "      <td>2.0</td>\n",
       "      <td>1.0</td>\n",
       "      <td>0.5</td>\n",
       "      <td>1.0</td>\n",
       "      <td>1.0</td>\n",
       "      <td>2.0</td>\n",
       "      <td>0.5</td>\n",
       "      <td>1.0</td>\n",
       "      <td>1.0</td>\n",
       "      <td>1.0</td>\n",
       "      <td>1.0</td>\n",
       "      <td>1.0</td>\n",
       "    </tr>\n",
       "    <tr>\n",
       "      <th>3</th>\n",
       "      <td>Poison</td>\n",
       "      <td>1.0</td>\n",
       "      <td>1.0</td>\n",
       "      <td>1.0</td>\n",
       "      <td>0.5</td>\n",
       "      <td>0.5</td>\n",
       "      <td>0.5</td>\n",
       "      <td>1.0</td>\n",
       "      <td>0.5</td>\n",
       "      <td>0.0</td>\n",
       "      <td>1.0</td>\n",
       "      <td>1.0</td>\n",
       "      <td>2.0</td>\n",
       "      <td>1.0</td>\n",
       "      <td>1.0</td>\n",
       "      <td>1.0</td>\n",
       "      <td>1.0</td>\n",
       "      <td>1.0</td>\n",
       "      <td>2.0</td>\n",
       "    </tr>\n",
       "    <tr>\n",
       "      <th>4</th>\n",
       "      <td>Ground</td>\n",
       "      <td>1.0</td>\n",
       "      <td>1.0</td>\n",
       "      <td>0.0</td>\n",
       "      <td>2.0</td>\n",
       "      <td>1.0</td>\n",
       "      <td>2.0</td>\n",
       "      <td>0.5</td>\n",
       "      <td>1.0</td>\n",
       "      <td>2.0</td>\n",
       "      <td>2.0</td>\n",
       "      <td>1.0</td>\n",
       "      <td>0.5</td>\n",
       "      <td>2.0</td>\n",
       "      <td>1.0</td>\n",
       "      <td>1.0</td>\n",
       "      <td>1.0</td>\n",
       "      <td>1.0</td>\n",
       "      <td>1.0</td>\n",
       "    </tr>\n",
       "    <tr>\n",
       "      <th>5</th>\n",
       "      <td>Rock</td>\n",
       "      <td>1.0</td>\n",
       "      <td>0.5</td>\n",
       "      <td>2.0</td>\n",
       "      <td>1.0</td>\n",
       "      <td>0.5</td>\n",
       "      <td>1.0</td>\n",
       "      <td>2.0</td>\n",
       "      <td>1.0</td>\n",
       "      <td>0.5</td>\n",
       "      <td>2.0</td>\n",
       "      <td>1.0</td>\n",
       "      <td>1.0</td>\n",
       "      <td>1.0</td>\n",
       "      <td>1.0</td>\n",
       "      <td>2.0</td>\n",
       "      <td>1.0</td>\n",
       "      <td>1.0</td>\n",
       "      <td>1.0</td>\n",
       "    </tr>\n",
       "    <tr>\n",
       "      <th>6</th>\n",
       "      <td>Bug</td>\n",
       "      <td>1.0</td>\n",
       "      <td>0.5</td>\n",
       "      <td>0.5</td>\n",
       "      <td>0.5</td>\n",
       "      <td>1.0</td>\n",
       "      <td>1.0</td>\n",
       "      <td>1.0</td>\n",
       "      <td>0.5</td>\n",
       "      <td>0.5</td>\n",
       "      <td>0.5</td>\n",
       "      <td>1.0</td>\n",
       "      <td>2.0</td>\n",
       "      <td>1.0</td>\n",
       "      <td>2.0</td>\n",
       "      <td>1.0</td>\n",
       "      <td>1.0</td>\n",
       "      <td>2.0</td>\n",
       "      <td>0.5</td>\n",
       "    </tr>\n",
       "    <tr>\n",
       "      <th>7</th>\n",
       "      <td>Ghost</td>\n",
       "      <td>0.0</td>\n",
       "      <td>1.0</td>\n",
       "      <td>1.0</td>\n",
       "      <td>1.0</td>\n",
       "      <td>1.0</td>\n",
       "      <td>1.0</td>\n",
       "      <td>1.0</td>\n",
       "      <td>2.0</td>\n",
       "      <td>1.0</td>\n",
       "      <td>1.0</td>\n",
       "      <td>1.0</td>\n",
       "      <td>1.0</td>\n",
       "      <td>1.0</td>\n",
       "      <td>2.0</td>\n",
       "      <td>1.0</td>\n",
       "      <td>1.0</td>\n",
       "      <td>0.5</td>\n",
       "      <td>1.0</td>\n",
       "    </tr>\n",
       "    <tr>\n",
       "      <th>8</th>\n",
       "      <td>Steel</td>\n",
       "      <td>1.0</td>\n",
       "      <td>1.0</td>\n",
       "      <td>1.0</td>\n",
       "      <td>1.0</td>\n",
       "      <td>1.0</td>\n",
       "      <td>2.0</td>\n",
       "      <td>1.0</td>\n",
       "      <td>1.0</td>\n",
       "      <td>0.5</td>\n",
       "      <td>0.5</td>\n",
       "      <td>0.5</td>\n",
       "      <td>1.0</td>\n",
       "      <td>0.5</td>\n",
       "      <td>1.0</td>\n",
       "      <td>2.0</td>\n",
       "      <td>1.0</td>\n",
       "      <td>1.0</td>\n",
       "      <td>2.0</td>\n",
       "    </tr>\n",
       "    <tr>\n",
       "      <th>9</th>\n",
       "      <td>Fire</td>\n",
       "      <td>1.0</td>\n",
       "      <td>1.0</td>\n",
       "      <td>1.0</td>\n",
       "      <td>1.0</td>\n",
       "      <td>1.0</td>\n",
       "      <td>0.5</td>\n",
       "      <td>2.0</td>\n",
       "      <td>1.0</td>\n",
       "      <td>2.0</td>\n",
       "      <td>0.5</td>\n",
       "      <td>0.5</td>\n",
       "      <td>2.0</td>\n",
       "      <td>1.0</td>\n",
       "      <td>1.0</td>\n",
       "      <td>2.0</td>\n",
       "      <td>0.5</td>\n",
       "      <td>1.0</td>\n",
       "      <td>1.0</td>\n",
       "    </tr>\n",
       "  </tbody>\n",
       "</table>\n",
       "</div>"
      ],
      "text/plain": [
       "       tipo  Normal  Fighting  Flying  Poison  Ground  Rock  Bug  Ghost  \\\n",
       "0    Normal     1.0       1.0     1.0     1.0     1.0   0.5  1.0    0.0   \n",
       "1  Fighting     2.0       1.0     0.5     0.5     1.0   2.0  0.5    0.0   \n",
       "2    Flying     1.0       2.0     1.0     1.0     1.0   0.5  2.0    1.0   \n",
       "3    Poison     1.0       1.0     1.0     0.5     0.5   0.5  1.0    0.5   \n",
       "4    Ground     1.0       1.0     0.0     2.0     1.0   2.0  0.5    1.0   \n",
       "5      Rock     1.0       0.5     2.0     1.0     0.5   1.0  2.0    1.0   \n",
       "6       Bug     1.0       0.5     0.5     0.5     1.0   1.0  1.0    0.5   \n",
       "7     Ghost     0.0       1.0     1.0     1.0     1.0   1.0  1.0    2.0   \n",
       "8     Steel     1.0       1.0     1.0     1.0     1.0   2.0  1.0    1.0   \n",
       "9      Fire     1.0       1.0     1.0     1.0     1.0   0.5  2.0    1.0   \n",
       "\n",
       "   Steel  Fire  Water  Grass  Electric  Psychic  Ice  Dragon  Dark  Fairy  \n",
       "0    0.5   1.0    1.0    1.0       1.0      1.0  1.0     1.0   1.0    1.0  \n",
       "1    2.0   1.0    1.0    1.0       1.0      0.5  2.0     1.0   2.0    0.5  \n",
       "2    0.5   1.0    1.0    2.0       0.5      1.0  1.0     1.0   1.0    1.0  \n",
       "3    0.0   1.0    1.0    2.0       1.0      1.0  1.0     1.0   1.0    2.0  \n",
       "4    2.0   2.0    1.0    0.5       2.0      1.0  1.0     1.0   1.0    1.0  \n",
       "5    0.5   2.0    1.0    1.0       1.0      1.0  2.0     1.0   1.0    1.0  \n",
       "6    0.5   0.5    1.0    2.0       1.0      2.0  1.0     1.0   2.0    0.5  \n",
       "7    1.0   1.0    1.0    1.0       1.0      2.0  1.0     1.0   0.5    1.0  \n",
       "8    0.5   0.5    0.5    1.0       0.5      1.0  2.0     1.0   1.0    2.0  \n",
       "9    2.0   0.5    0.5    2.0       1.0      1.0  2.0     0.5   1.0    1.0  "
      ]
     },
     "execution_count": 15,
     "metadata": {},
     "output_type": "execute_result"
    }
   ],
   "source": [
    "df_matriz = pd.read_csv(\"data/matriz_tipo.csv\")\n",
    "# df_matriz.isnull().sum()\n",
    "# df_matriz.nunique()\n",
    "# df_matriz.dtypes\n",
    "# df_matriz.describe()\n",
    "# df_matriz.set_index(\"tipo\")[\"Fire\"].to_dict()#[\"Bug\"] # eficacia dos ataques dos outros tipos\n",
    "df_matriz.head(10)"
   ]
  },
  {
   "cell_type": "markdown",
   "metadata": {},
   "source": [
    "# Caracteriazação do problema"
   ]
  },
  {
   "cell_type": "markdown",
   "metadata": {},
   "source": [
    "um time será caracterizado de 6 pokemons"
   ]
  },
  {
   "cell_type": "markdown",
   "metadata": {},
   "source": [
    "- assume-se que todos os ataques dos pokemons são do seu respectivo tipo. Isto é, um pokemon de fogo somente tem ataques de tipo fogo.\n",
    "- em caso de pokemons de dois tipos, haverá ataques de seus tipos. Isto é, pokemon de fogo e voador terá ataques de fogo e voador.\n",
    "- os ataques e sp. ataques foram somados afim de criar o ataque total\n",
    "- as defesas e sp. defesas doram somados afim de criar a defesa total"
   ]
  },
  {
   "cell_type": "markdown",
   "metadata": {},
   "source": [
    "## Fitness"
   ]
  },
  {
   "cell_type": "markdown",
   "metadata": {},
   "source": [
    "https://bulbapedia.bulbagarden.net/wiki/Damage"
   ]
  },
  {
   "cell_type": "markdown",
   "metadata": {},
   "source": [
    "# Algoritmo"
   ]
  },
  {
   "cell_type": "markdown",
   "metadata": {},
   "source": [
    "## A codificação de um indivíduo em termos de seu genótipo e fenótipo\n",
    "### genótipo:\n",
    "um par ordenado (x,y)\n",
    "poderia ser uma vetor binário que representasse uma função expandida de aproximação para os valores\n",
    "\n",
    "### fenótipo:\n",
    "os proprios valores do um ordenado (x,y)"
   ]
  },
  {
   "cell_type": "markdown",
   "metadata": {},
   "source": [
    "## A função de fitness utilizada\n",
    "a propria função de Himmelblau"
   ]
  },
  {
   "cell_type": "markdown",
   "metadata": {},
   "source": [
    "## Parametros"
   ]
  },
  {
   "cell_type": "code",
   "execution_count": 16,
   "metadata": {},
   "outputs": [],
   "source": [
    "## Apresente os parâmetros (tamanho da população, taxa de mutação, quantidade de gerações) utilizados para executar o algoritmo;\n",
    "tamanho_populacao = 20\n",
    "taxa_mutacao=0.7\n",
    "numero_geracoes=15"
   ]
  },
  {
   "cell_type": "markdown",
   "metadata": {},
   "source": [
    "## Code"
   ]
  },
  {
   "cell_type": "code",
   "execution_count": 17,
   "metadata": {},
   "outputs": [],
   "source": [
    "ag = GeneticAlgorithm(population_size= tamanho_populacao)"
   ]
  },
  {
   "cell_type": "code",
   "execution_count": 18,
   "metadata": {},
   "outputs": [
    {
     "name": "stdout",
     "output_type": "stream",
     "text": [
      "Generation 0: Fittest individual has fitness 271.3738771532898\n",
      "Generation 1: Fittest individual has fitness 326.35727949664647\n",
      "Generation 2: Fittest individual has fitness 295.69255263924157\n",
      "Generation 3: Fittest individual has fitness 319.8593700304986\n",
      "Generation 4: Fittest individual has fitness 347.70529071338746\n",
      "Generation 5: Fittest individual has fitness 214.28092050478116\n",
      "Generation 6: Fittest individual has fitness 198.60421465393748\n",
      "Generation 7: Fittest individual has fitness 222.18597251549076\n",
      "Generation 8: Fittest individual has fitness 371.5793132611202\n",
      "Generation 9: Fittest individual has fitness 233.51471774890513\n",
      "Generation 10: Fittest individual has fitness 232.13134678967378\n",
      "Generation 11: Fittest individual has fitness 298.8670486260478\n",
      "Generation 12: Fittest individual has fitness 366.6852240091195\n",
      "Generation 13: Fittest individual has fitness 331.70809076251385\n",
      "Generation 14: Fittest individual has fitness 222.32393542367328\n"
     ]
    }
   ],
   "source": [
    "ag.run(max_generations=numero_geracoes, mutation_rate=taxa_mutacao)"
   ]
  },
  {
   "cell_type": "code",
   "execution_count": 19,
   "metadata": {},
   "outputs": [
    {
     "name": "stdout",
     "output_type": "stream",
     "text": [
      "Individual(pokedex_number=125, name=Electabuzz, type1=Electric, type2=None)\n",
      "Individual(pokedex_number=13, name=Weedle, type1=Bug, type2=Poison)\n",
      "Individual(pokedex_number=187, name=Hoppip, type1=Grass, type2=Flying)\n",
      "Individual(pokedex_number=549, name=Lilligant, type1=Grass, type2=None)\n",
      "Individual(pokedex_number=656, name=Froakie, type1=Water, type2=None)\n",
      "Individual(pokedex_number=268, name=Cascoon, type1=Bug, type2=None)\n"
     ]
    }
   ],
   "source": [
    "for x in ag.oponent_team.team:\n",
    "    print(x)"
   ]
  },
  {
   "cell_type": "code",
   "execution_count": 20,
   "metadata": {},
   "outputs": [
    {
     "data": {
      "text/plain": [
       "[TeamIndividual(team=[Individual(pokedex_number=26, name=Raichu, type1=Electric, type2=None), Individual(pokedex_number=70, name=Weepinbell, type1=Grass, type2=Poison), Individual(pokedex_number=249, name=Lugia, type1=Psychic, type2=Flying), Individual(pokedex_number=599, name=Klink, type1=Steel, type2=None), Individual(pokedex_number=51, name=Dugtrio, type1=Ground, type2=None), Individual(pokedex_number=145, name=Zapdos, type1=Electric, type2=Flying)], fitness=542.7477543065796),\n",
       " TeamIndividual(team=[Individual(pokedex_number=142, name=Aerodactyl, type1=Rock, type2=Flying), Individual(pokedex_number=288, name=Vigoroth, type1=Normal, type2=None), Individual(pokedex_number=576, name=Gothitelle, type1=Psychic, type2=None), Individual(pokedex_number=91, name=Cloyster, type1=Water, type2=Ice), Individual(pokedex_number=282, name=Gardevoir, type1=Psychic, type2=Fairy), Individual(pokedex_number=581, name=Swanna, type1=Water, type2=Flying)], fitness=326.35727949664647),\n",
       " TeamIndividual(team=[Individual(pokedex_number=641, name=TornadusIncarnate Forme, type1=Flying, type2=None), Individual(pokedex_number=331, name=Cacnea, type1=Grass, type2=None), Individual(pokedex_number=386, name=DeoxysNormal Forme, type1=Psychic, type2=None), Individual(pokedex_number=538, name=Throh, type1=Fighting, type2=None), Individual(pokedex_number=8, name=Wartortle, type1=Water, type2=None), Individual(pokedex_number=156, name=Quilava, type1=Fire, type2=None)], fitness=295.69255263924157),\n",
       " TeamIndividual(team=[Individual(pokedex_number=151, name=Mew, type1=Psychic, type2=None), Individual(pokedex_number=655, name=Delphox, type1=Fire, type2=Psychic), Individual(pokedex_number=601, name=Klinklang, type1=Steel, type2=None), Individual(pokedex_number=553, name=Krookodile, type1=Ground, type2=Dark), Individual(pokedex_number=494, name=Victini, type1=Psychic, type2=Fire), Individual(pokedex_number=444, name=Gabite, type1=Dragon, type2=Ground)], fitness=319.8593700304986),\n",
       " TeamIndividual(team=[Individual(pokedex_number=59, name=Arcanine, type1=Fire, type2=None), Individual(pokedex_number=687, name=Malamar, type1=Dark, type2=Psychic), Individual(pokedex_number=410, name=Shieldon, type1=Rock, type2=Steel), Individual(pokedex_number=676, name=Furfrou, type1=Normal, type2=None), Individual(pokedex_number=708, name=Phantump, type1=Ghost, type2=Grass), Individual(pokedex_number=567, name=Archeops, type1=Rock, type2=Flying)], fitness=347.70529071338746),\n",
       " TeamIndividual(team=[Individual(pokedex_number=243, name=Raikou, type1=Electric, type2=None), Individual(pokedex_number=662, name=Fletchinder, type1=Fire, type2=Flying), Individual(pokedex_number=606, name=Beheeyem, type1=Psychic, type2=None), Individual(pokedex_number=315, name=Roselia, type1=Grass, type2=Poison), Individual(pokedex_number=497, name=Serperior, type1=Grass, type2=None), Individual(pokedex_number=79, name=Slowpoke, type1=Water, type2=Psychic)], fitness=214.28092050478116),\n",
       " TeamIndividual(team=[Individual(pokedex_number=429, name=Mismagius, type1=Ghost, type2=None), Individual(pokedex_number=681, name=AegislashShield Forme, type1=Steel, type2=Ghost), Individual(pokedex_number=8, name=Wartortle, type1=Water, type2=None), Individual(pokedex_number=457, name=Lumineon, type1=Water, type2=None), Individual(pokedex_number=38, name=Ninetales, type1=Fire, type2=None), Individual(pokedex_number=335, name=Zangoose, type1=Normal, type2=None)], fitness=198.60421465393748),\n",
       " TeamIndividual(team=[Individual(pokedex_number=59, name=Arcanine, type1=Fire, type2=None), Individual(pokedex_number=622, name=Golett, type1=Ground, type2=Ghost), Individual(pokedex_number=523, name=Zebstrika, type1=Electric, type2=None), Individual(pokedex_number=441, name=Chatot, type1=Normal, type2=Flying), Individual(pokedex_number=674, name=Pancham, type1=Fighting, type2=None), Individual(pokedex_number=223, name=Remoraid, type1=Water, type2=None)], fitness=222.18597251549076),\n",
       " TeamIndividual(team=[Individual(pokedex_number=321, name=Wailord, type1=Water, type2=None), Individual(pokedex_number=614, name=Beartic, type1=Ice, type2=None), Individual(pokedex_number=581, name=Swanna, type1=Water, type2=Flying), Individual(pokedex_number=142, name=Aerodactyl, type1=Rock, type2=Flying), Individual(pokedex_number=561, name=Sigilyph, type1=Psychic, type2=Flying), Individual(pokedex_number=110, name=Weezing, type1=Poison, type2=None)], fitness=371.5793132611202),\n",
       " TeamIndividual(team=[Individual(pokedex_number=190, name=Aipom, type1=Normal, type2=None), Individual(pokedex_number=346, name=Cradily, type1=Rock, type2=Grass), Individual(pokedex_number=642, name=ThundurusIncarnate Forme, type1=Electric, type2=Flying), Individual(pokedex_number=239, name=Elekid, type1=Electric, type2=None), Individual(pokedex_number=330, name=Flygon, type1=Ground, type2=Dragon), Individual(pokedex_number=83, name=Farfetch'd, type1=Normal, type2=Flying)], fitness=233.51471774890513),\n",
       " TeamIndividual(team=[Individual(pokedex_number=97, name=Hypno, type1=Psychic, type2=None), Individual(pokedex_number=110, name=Weezing, type1=Poison, type2=None), Individual(pokedex_number=72, name=Tentacool, type1=Water, type2=Poison), Individual(pokedex_number=518, name=Musharna, type1=Psychic, type2=None), Individual(pokedex_number=561, name=Sigilyph, type1=Psychic, type2=Flying), Individual(pokedex_number=699, name=Aurorus, type1=Rock, type2=Ice)], fitness=232.13134678967378),\n",
       " TeamIndividual(team=[Individual(pokedex_number=315, name=Roselia, type1=Grass, type2=Poison), Individual(pokedex_number=251, name=Celebi, type1=Psychic, type2=Grass), Individual(pokedex_number=76, name=Golem, type1=Rock, type2=Ground), Individual(pokedex_number=633, name=Deino, type1=Dark, type2=Dragon), Individual(pokedex_number=110, name=Weezing, type1=Poison, type2=None), Individual(pokedex_number=567, name=Archeops, type1=Rock, type2=Flying)], fitness=298.8670486260478),\n",
       " TeamIndividual(team=[Individual(pokedex_number=719, name=Diancie, type1=Rock, type2=Fairy), Individual(pokedex_number=251, name=Celebi, type1=Psychic, type2=Grass), Individual(pokedex_number=277, name=Swellow, type1=Normal, type2=Flying), Individual(pokedex_number=4, name=Charmander, type1=Fire, type2=None), Individual(pokedex_number=110, name=Weezing, type1=Poison, type2=None), Individual(pokedex_number=567, name=Archeops, type1=Rock, type2=Flying)], fitness=366.6852240091195),\n",
       " TeamIndividual(team=[Individual(pokedex_number=618, name=Stunfisk, type1=Ground, type2=Electric), Individual(pokedex_number=38, name=Ninetales, type1=Fire, type2=None), Individual(pokedex_number=382, name=Kyogre, type1=Water, type2=None), Individual(pokedex_number=720, name=HoopaHoopa Unbound, type1=Psychic, type2=Dark), Individual(pokedex_number=494, name=Victini, type1=Psychic, type2=Fire), Individual(pokedex_number=414, name=Mothim, type1=Bug, type2=Flying)], fitness=331.70809076251385),\n",
       " TeamIndividual(team=[Individual(pokedex_number=621, name=Druddigon, type1=Dragon, type2=None), Individual(pokedex_number=38, name=Ninetales, type1=Fire, type2=None), Individual(pokedex_number=207, name=Gligar, type1=Ground, type2=Flying), Individual(pokedex_number=289, name=Slaking, type1=Normal, type2=None), Individual(pokedex_number=428, name=Lopunny, type1=Normal, type2=None), Individual(pokedex_number=651, name=Quilladin, type1=Grass, type2=None)], fitness=222.32393542367328)]"
      ]
     },
     "execution_count": 20,
     "metadata": {},
     "output_type": "execute_result"
    }
   ],
   "source": [
    "ag.historical_fitness"
   ]
  },
  {
   "cell_type": "code",
   "execution_count": 21,
   "metadata": {},
   "outputs": [
    {
     "name": "stdout",
     "output_type": "stream",
     "text": [
      "Individual(pokedex_number=26, name=Raichu, type1=Electric, type2=None)\n",
      "Individual(pokedex_number=70, name=Weepinbell, type1=Grass, type2=Poison)\n",
      "Individual(pokedex_number=249, name=Lugia, type1=Psychic, type2=Flying)\n",
      "Individual(pokedex_number=599, name=Klink, type1=Steel, type2=None)\n",
      "Individual(pokedex_number=51, name=Dugtrio, type1=Ground, type2=None)\n",
      "Individual(pokedex_number=145, name=Zapdos, type1=Electric, type2=Flying)\n",
      "542.7477543065796\n"
     ]
    }
   ],
   "source": [
    "for x in ag.fittest_team.team:\n",
    "    print(x)\n",
    "print(ag.fittest_team.fitness)"
   ]
  },
  {
   "cell_type": "markdown",
   "metadata": {},
   "source": [
    "# Simulação"
   ]
  },
  {
   "cell_type": "code",
   "execution_count": null,
   "metadata": {},
   "outputs": [],
   "source": [
    "tamanho_populacao = 20\n",
    "taxa_mutacao=0.7\n",
    "numero_geracoes=15\n",
    "\n",
    "ag = GeneticAlgorithm(population_size= tamanho_populacao)\n",
    "ag.run(max_generations=numero_geracoes, mutation_rate=taxa_mutacao)"
   ]
  },
  {
   "cell_type": "code",
   "execution_count": 11,
   "metadata": {},
   "outputs": [],
   "source": [
    "resultados = []\n",
    "for x in ag.historical_fitness:\n",
    "    resultados.append(x.fitness)"
   ]
  },
  {
   "cell_type": "code",
   "execution_count": 12,
   "metadata": {},
   "outputs": [
    {
     "data": {
      "image/png": "[encoded data removed]",
      "text/plain": [
       "<Figure size 640x480 with 1 Axes>"
      ]
     },
     "metadata": {},
     "output_type": "display_data"
    }
   ],
   "source": [
    "## Inclua um gráfico mostrando a variação do fitness médio e fitness máximo ao longo das gerações;\n",
    "plt.plot(resultados)\n",
    "plt.title(\"Acompanhamento dos valores\")\n",
    "plt.show()"
   ]
  },
  {
   "cell_type": "markdown",
   "metadata": {},
   "source": [
    "# Considerações"
   ]
  },
  {
   "cell_type": "markdown",
   "metadata": {},
   "source": [
    "podiamos elaborar uma abordagem de aprendizado por reforço em que gerariamos o time e simulariamos a batalha (sequancial, randomica ou por affinidade de atributos) e teriamos os resultados.\n",
    "seria um abordagem mais simples de implementação.\n",
    "\n",
    "porem optei a abordagem genetica pois gostaria de simular uma evolução natural por exercitar a habilidade e que será um tipo de algoritmo que aplicarei em futuras aplicações."
   ]
  }
 ],
 "metadata": {
  "kernelspec": {
   "display_name": "base",
   "language": "python",
   "name": "python3"
  },
  "language_info": {
   "codemirror_mode": {
    "name": "ipython",
    "version": 3
   },
   "file_extension": ".py",
   "mimetype": "text/x-python",
   "name": "python",
   "nbconvert_exporter": "python",
   "pygments_lexer": "ipython3",
   "version": "3.8.8"
  },
  "orig_nbformat": 4
 },
 "nbformat": 4,
 "nbformat_minor": 2
}
